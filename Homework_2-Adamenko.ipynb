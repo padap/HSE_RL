{
 "cells": [
  {
   "cell_type": "markdown",
   "metadata": {},
   "source": [
    "# Homework 2"
   ]
  },
  {
   "cell_type": "markdown",
   "metadata": {},
   "source": [
    "В Homework 1 мы научились находить оптимальную политику для агента в средах диниамика которых нам известна. Теперь попробуем найти оптимальные действия для агента в среде без известной динамики и реализуем 2 базовых алгоритма - Q-learning и REIFORCE (самостоятельно). Реализуем алгоритмы сразу с использованием нелинейного аппроксиматора Q-функции (DQN) и политики (REINFORCE) - нейронной сети."
   ]
  },
  {
   "cell_type": "markdown",
   "metadata": {},
   "source": [
    "#### Для работы нам потребуется установить gym и numpy. Gym следует установить командой pip install gym=0.9.2. Также необходимо установить фреймворк для автоматического дифференцирования <a href=https://pytorch.org/get-started/locally/>PyTorch</a> для вашей операционной системы.\n",
    "#### Весь код предназначен для запуска на CPU - внесите необходмые изменения для запуска на GPU."
   ]
  },
  {
   "cell_type": "code",
   "execution_count": 12,
   "metadata": {},
   "outputs": [],
   "source": [
    "# Импортируем необходимые библиотеки\n",
    "import gym\n",
    "import random\n",
    "import math\n",
    "import numpy as np\n",
    "from collections import deque\n",
    "import torch\n",
    "import torch.nn as nn\n",
    "import torch.optim as optim\n",
    "import torch.nn.functional as F\n",
    "import matplotlib.pyplot as plt\n",
    "from IPython.display import clear_output\n",
    "from IPython.display import Image\n",
    "%matplotlib inline"
   ]
  },
  {
   "cell_type": "markdown",
   "metadata": {},
   "source": [
    "Агент будет действовать в среде <a href=https://gym.openai.com/envs/CartPole-v0>CartPole-v0</a>. В этой среде агент должен удержать шест, который закреплен на тележке, в вертикальном положении. Агент может прикладывать силу *+1* или *-1* к тележке в попытке удержать шест. Эпизод игры заканчивается, если шест отклоняется от вертикального положения больше, чем на *15* градусов или тележка сдвигается больше, чем на *2.4* единицы расстояния от центра. За каждый шаг времени, когда шест находится в вертикальном положении, агент получает награду в размере *+1* очко. Задаче считается \"решенной\" при получении агентом средней за 100 попыток награды *195* очков."
   ]
  },
  {
   "cell_type": "markdown",
   "metadata": {},
   "source": [
    "## DQN"
   ]
  },
  {
   "cell_type": "markdown",
   "metadata": {},
   "source": [
    "Создадим уже привычным способом среду"
   ]
  },
  {
   "cell_type": "code",
   "execution_count": 13,
   "metadata": {},
   "outputs": [],
   "source": [
    "env = gym.make('CartPole-v0')"
   ]
  },
  {
   "cell_type": "markdown",
   "metadata": {},
   "source": [
    "Как мы знаем из лекций, для реализации алгоритма DQN нам потребуется несколько вспомогательных вещей, а именно - Replay Buffer для сохранения переходов вида (state, action, reward, next_state, флаг done) - он нам понадобится для обучения нашей нейронной сети, а также саму нейронную сеть."
   ]
  },
  {
   "cell_type": "markdown",
   "metadata": {},
   "source": [
    "Начнем с нейронной сети. Сеть должна принимать на вход вектор, описывающий текущее состояние (в нашем случае размерности 4), а на выходе выдвать значение Q-функции для каждого действия. При выборе действий агентом мы будем использовать $\\epsilon$-greedy политику."
   ]
  },
  {
   "cell_type": "code",
   "execution_count": 14,
   "metadata": {},
   "outputs": [],
   "source": [
    "num_inputs = env.observation_space.shape[0]\n",
    "num_actions = env.action_space.n"
   ]
  },
  {
   "cell_type": "code",
   "execution_count": 15,
   "metadata": {},
   "outputs": [],
   "source": [
    "class DQN(nn.Module):\n",
    "    def __init__(self, num_inputs, num_actions):\n",
    "        super(DQN, self).__init__()\n",
    "        \n",
    "        self.num_inputs = num_inputs\n",
    "        self.num_actions = num_actions\n",
    "        \n",
    "        self.layers = nn.Sequential(\n",
    "            nn.Linear(num_inputs, 128),\n",
    "            nn.ReLU(),\n",
    "            nn.Linear(128, 128),\n",
    "            nn.ReLU(),\n",
    "            nn.Linear(128, num_actions)\n",
    "        )\n",
    "        \n",
    "    def forward(self, x):\n",
    "        return self.layers(x)\n",
    "    \n",
    "    def act(self, state, epsilon):\n",
    "        if random.random() > epsilon:\n",
    "            state = torch.tensor(state, dtype=torch.float32).unsqueeze(0)\n",
    "            with torch.no_grad():\n",
    "                q_value = self.forward(state)\n",
    "            action  = q_value.max(1)[1].item()\n",
    "        else:\n",
    "            action = random.randrange(num_actions)\n",
    "        return action"
   ]
  },
  {
   "cell_type": "markdown",
   "metadata": {},
   "source": [
    "Напишем Replay Buffer."
   ]
  },
  {
   "cell_type": "code",
   "execution_count": 16,
   "metadata": {},
   "outputs": [],
   "source": [
    "class ReplayBuffer(object):\n",
    "    def __init__(self, capacity):\n",
    "        # используем функцию deque из библиотеки collections для создания очереди.\n",
    "        self.buffer = deque(maxlen=capacity)\n",
    "    \n",
    "    # функция, сохраняющая переходы в Replay Buffer\n",
    "    def push(self, state, action, reward, next_state, done):\n",
    "        state = np.expand_dims(state, 0)\n",
    "        next_state = np.expand_dims(next_state, 0)\n",
    "        self.buffer.append((state, action, reward, next_state, done))\n",
    "    \n",
    "    # функция, реализующая семплирование переходов из Replay Buffer-а для обучение агента\n",
    "    def sample(self, batch_size):\n",
    "        state, action, reward, next_state, done = zip(*random.sample(self.buffer, batch_size))\n",
    "        return np.concatenate(state), action, reward, np.concatenate(next_state), done\n",
    "    \n",
    "    def __len__(self):\n",
    "        return len(self.buffer)"
   ]
  },
  {
   "cell_type": "markdown",
   "metadata": {},
   "source": [
    "Теперь нам необходимо реализовать вспомогательную функцию для непосредственной тренировки агента."
   ]
  },
  {
   "cell_type": "markdown",
   "metadata": {},
   "source": [
    "#### На основе материала лекций вам необходимо на основе батча, полученного из Replay Buffer-a, релизовать шаг обновления параметров сети - рассчитать необходимые значения Q-функции для соответствующих шагов, а также функцию потерь для обновления. Следует обратить внимание на следующие моменты:\n",
    "* какие значение Q-функции использовать для сооветвующих компонентов обновления Беллмана;\n",
    "* что делать, если в переходе флаг done принимает значение True\n",
    "* какие значения Q-функции мы используем для расчета градиентов, а какие - нет"
   ]
  },
  {
   "cell_type": "code",
   "execution_count": 17,
   "metadata": {},
   "outputs": [],
   "source": [
    "def train(batch_size, gamma):\n",
    "    \n",
    "    # сэмплируем из Replay Buffer-a батч переходов\n",
    "    state, action, reward, next_state, done = replay_buffer.sample(batch_size)\n",
    "\n",
    "    # преобразуем компоненты батча в тензоры PyTorch\n",
    "    state = torch.tensor(state, dtype=torch.float32)\n",
    "    next_state = torch.tensor(next_state, dtype=torch.float32)\n",
    "    action = torch.tensor(action, dtype=torch.int64)\n",
    "    reward = torch.tensor(reward, dtype=torch.float32)\n",
    "    done = torch.tensor(done, dtype=torch.float32)\n",
    "    \n",
    "    # YOUR CODE GOES HERE\n",
    "    q_val2 = model(next_state)\n",
    "    q_val2 = q_val2.max(1)[0]\n",
    "    \n",
    "    q_val = model(state)\n",
    "    q_val = q_val.gather(1, action.unsqueeze(1)).squeeze(1)\n",
    "    \n",
    "\n",
    "    q_exp = reward + gamma * q_val2 * (1 - done)\n",
    "\n",
    "    loss = (q_val - q_exp.detach()).pow(2).mean()\n",
    "    \n",
    "    optimizer.zero_grad()\n",
    "    loss.backward()\n",
    "    optimizer.step()\n",
    "    \n",
    "    return loss"
   ]
  },
  {
   "cell_type": "markdown",
   "metadata": {},
   "source": [
    "Также, нам нужна вспомогательная функция, которая поможет визуализировать наши rewards и значения функции потерь."
   ]
  },
  {
   "cell_type": "code",
   "execution_count": 18,
   "metadata": {},
   "outputs": [],
   "source": [
    "def plot(frame_idx, rewards, losses):\n",
    "    clear_output(True)\n",
    "    plt.figure(figsize=(20,5))\n",
    "    plt.subplot(131)\n",
    "    plt.title('step %s. reward: %s' % (frame_idx, np.mean(rewards[-10:])))\n",
    "    plt.plot(rewards)\n",
    "    plt.subplot(132)\n",
    "    plt.title('loss')\n",
    "    plt.plot(losses)\n",
    "    plt.show()"
   ]
  },
  {
   "cell_type": "markdown",
   "metadata": {},
   "source": [
    "В заключение, для стабилизации обучения нам нужна функция, которая постепенно уменьшает $\\epsilon$ для $\\epsilon$-greedy политики. Это позволит нам регулировать баланс Exploration и Exploitation во времени и стабилизировать сходимость политики агента."
   ]
  },
  {
   "cell_type": "code",
   "execution_count": 19,
   "metadata": {},
   "outputs": [],
   "source": [
    "epsilon_start = 1.0\n",
    "epsilon_final = 0.01\n",
    "epsilon_decay = 500\n",
    "\n",
    "epsilon_decay_by_step = lambda step: epsilon_final + (epsilon_start - epsilon_final) * math.exp(-1. * step / epsilon_decay)"
   ]
  },
  {
   "cell_type": "markdown",
   "metadata": {},
   "source": [
    "Теперь мы можем создать все необходимые объекты для обучения агента - нейронную сеть, оптимизатор, Replay Buffer."
   ]
  },
  {
   "cell_type": "code",
   "execution_count": 20,
   "metadata": {},
   "outputs": [],
   "source": [
    "model = DQN(num_inputs, num_actions)\n",
    "    \n",
    "optimizer = optim.Adam(model.parameters())\n",
    "\n",
    "replay_buffer = ReplayBuffer(1000)"
   ]
  },
  {
   "cell_type": "markdown",
   "metadata": {},
   "source": [
    "Также зададим гиперпараметры алгоритма - количество шагов, размер батча и фактор дисконтирования."
   ]
  },
  {
   "cell_type": "code",
   "execution_count": 21,
   "metadata": {},
   "outputs": [],
   "source": [
    "steps = 10000\n",
    "batch_size = 32\n",
    "gamma = 0.99"
   ]
  },
  {
   "cell_type": "markdown",
   "metadata": {},
   "source": [
    "Реализуем основной цикл обучения. Наш алгоритм должен довольно быстрой сойтись к значению reward равному 200."
   ]
  },
  {
   "cell_type": "code",
   "execution_count": 22,
   "metadata": {},
   "outputs": [
    {
     "data": {
      "image/png": "[encoded data removed]",
      "text/plain": [
       "<matplotlib.figure.Figure at 0x115f85ac8>"
      ]
     },
     "metadata": {},
     "output_type": "display_data"
    }
   ],
   "source": [
    "losses = []\n",
    "all_rewards = []\n",
    "episode_reward = 0\n",
    "\n",
    "state = env.reset()\n",
    "for step in range(1, steps + 1):\n",
    "    epsilon = epsilon_decay_by_step(step)\n",
    "    action = model.act(state, epsilon)\n",
    "    \n",
    "    next_state, reward, done, _ = env.step(action)\n",
    "    replay_buffer.push(state, action, reward, next_state, done)\n",
    "    \n",
    "    state = next_state\n",
    "    episode_reward += reward\n",
    "    \n",
    "    if done:\n",
    "        state = env.reset()\n",
    "        all_rewards.append(episode_reward)\n",
    "        episode_reward = 0\n",
    "        \n",
    "    if len(replay_buffer) > batch_size:\n",
    "        loss = train(batch_size, gamma)\n",
    "        losses.append(loss.item())\n",
    "        \n",
    "    if step % 200 == 0:\n",
    "        plot(step, all_rewards, losses)"
   ]
  },
  {
   "cell_type": "code",
   "execution_count": null,
   "metadata": {},
   "outputs": [],
   "source": []
  },
  {
   "cell_type": "markdown",
   "metadata": {},
   "source": [
    "## Дополнительное задание"
   ]
  },
  {
   "cell_type": "markdown",
   "metadata": {},
   "source": [
    "Релизуйте алгоритм REINFORCE в той же среде Cartpole-v0 (для вдохновения можно использовать реализацию из туториала PyToch)"
   ]
  }
 ],
 "metadata": {
  "kernelspec": {
   "display_name": "Python 3",
   "language": "python",
   "name": "python3"
  },
  "language_info": {
   "codemirror_mode": {
    "name": "ipython",
    "version": 3
   },
   "file_extension": ".py",
   "mimetype": "text/x-python",
   "name": "python",
   "nbconvert_exporter": "python",
   "pygments_lexer": "ipython3",
   "version": "3.6.5"
  }
 },
 "nbformat": 4,
 "nbformat_minor": 2
}
